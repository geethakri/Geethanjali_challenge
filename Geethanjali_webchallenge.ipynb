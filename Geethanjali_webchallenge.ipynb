{
 "cells": [
  {
   "cell_type": "code",
   "execution_count": null,
   "metadata": {},
   "outputs": [],
   "source": [
    "import re\n",
    "\n",
    "def is_valid_credit_card(card_number):\n",
    "    \"\"\"\n",
    "  This function checks if a credit card number is valid based on ABCD Bank criteria.\n",
    "\n",
    "  Args:\n",
    "      card_number: The credit card number string to validate.\n",
    "\n",
    "  Returns:\n",
    "      \"Valid\" if the card number is valid, otherwise \"Invalid\".\n",
    "  \"\"\"\n",
    "    pattern = r\"^(?:4[0-9]{12}(?:[0-9]{3})?|[56][0-9]{14})$\"\n",
    "  # Check if the card number starts with 4, 5, or 6 and has the correct number of digits\n",
    "    if not re.match(pattern, card_number):\n",
    "        return \"Invalid\"\n",
    "\n",
    "  # Check for non-digit characters, consecutive repetitions (more than 3), and separators other than '-'\n",
    "    if any(char.isalpha() or (str(c) * 4 in card_number for c in range(10)) or char not in \"0123456789-\" for char in card_number.replace(\"-\", \"\")):\n",
    "        return \"Invalid\"\n",
    "\n",
    "  # Split the card number by '-' and check if each group has 4 digits\n",
    "    groups = card_number.split(\"-\")\n",
    "    if len(groups) != 4 or any(len(group) != 4 for group in groups):\n",
    "        return \"Invalid\"\n",
    "\n",
    "    return \"Valid\"\n",
    "\n",
    "# Get the number of test cases\n",
    "num_tests = int(input())\n",
    "\n",
    "# Loop through each test case\n",
    "for _ in range(num_tests):\n",
    "    card_number = input()\n",
    "    print(is_valid_credit_card(card_number))"
   ]
  }
 ],
 "metadata": {
  "kernelspec": {
   "display_name": "Python 3",
   "language": "python",
   "name": "python3"
  },
  "language_info": {
   "codemirror_mode": {
    "name": "ipython",
    "version": 3
   },
   "file_extension": ".py",
   "mimetype": "text/x-python",
   "name": "python",
   "nbconvert_exporter": "python",
   "pygments_lexer": "ipython3",
   "version": "3.7.4"
  }
 },
 "nbformat": 4,
 "nbformat_minor": 2
}
